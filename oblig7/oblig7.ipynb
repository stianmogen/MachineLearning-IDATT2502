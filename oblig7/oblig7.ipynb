{
 "cells": [
  {
   "cell_type": "markdown",
   "id": "ff022099-39ce-489b-a333-22311f68e26d",
   "metadata": {},
   "source": [
    "Oblig 7"
   ]
  },
  {
   "cell_type": "markdown",
   "id": "067c20c4-7a33-4d6b-ae98-7e327186547f",
   "metadata": {},
   "source": [
    "1. Using the UCI Mushroom dataset, use k-means and a suitable cluster evaluation metric to determine the optimal number of clusters in the dataset. Note that this may not necessarily be two (edible versus not-edible).\n",
    "\n",
    "2. Plot this metric while increasing the number of clusters, e.g.,  𝑘=2..30  (see here for an example).\n",
    "\n",
    "3. Visualise the data using the number of clusters and a suitable projection or low-dimensional embedding."
   ]
  },
  {
   "cell_type": "code",
   "execution_count": 2,
   "id": "6c2e0c92-ef01-4af0-a7d7-1fcf234cb7d7",
   "metadata": {},
   "outputs": [],
   "source": [
    "%matplotlib inline\n",
    "\n",
    "from sklearn.datasets import load_iris\n",
    "from sklearn.feature_selection import SelectKBest\n",
    "from sklearn.feature_selection import chi2\n",
    "import numpy as np\n",
    "import pandas as pd\n",
    "\n",
    "import matplotlib.pyplot as plt\n",
    "from mpl_toolkits.mplot3d import Axes3D\n",
    "\n",
    "from sklearn import decomposition\n",
    "from sklearn import datasets\n",
    "from sklearn.cluster import KMeans\n",
    "import sklearn.metrics as metrics\n",
    "from sklearn.decomposition import PCA"
   ]
  },
  {
   "cell_type": "code",
   "execution_count": 3,
   "id": "6510ee38-1db7-441b-899d-63a76ba530b8",
   "metadata": {},
   "outputs": [
    {
     "data": {
      "text/html": [
       "<div>\n",
       "<style scoped>\n",
       "    .dataframe tbody tr th:only-of-type {\n",
       "        vertical-align: middle;\n",
       "    }\n",
       "\n",
       "    .dataframe tbody tr th {\n",
       "        vertical-align: top;\n",
       "    }\n",
       "\n",
       "    .dataframe thead th {\n",
       "        text-align: right;\n",
       "    }\n",
       "</style>\n",
       "<table border=\"1\" class=\"dataframe\">\n",
       "  <thead>\n",
       "    <tr style=\"text-align: right;\">\n",
       "      <th></th>\n",
       "      <th>edibility</th>\n",
       "      <th>cap-shape</th>\n",
       "      <th>cap-surface</th>\n",
       "      <th>cap-color</th>\n",
       "      <th>bruises?</th>\n",
       "      <th>odor</th>\n",
       "      <th>gill-attachment</th>\n",
       "      <th>gill-spacing</th>\n",
       "      <th>gill-size</th>\n",
       "      <th>gill-color</th>\n",
       "      <th>...</th>\n",
       "      <th>stalk-surface-below-ring</th>\n",
       "      <th>stalk-color-above-ring</th>\n",
       "      <th>stalk-color-below-ring</th>\n",
       "      <th>veil-type</th>\n",
       "      <th>veil-color</th>\n",
       "      <th>ring-number</th>\n",
       "      <th>ring-type</th>\n",
       "      <th>spore-print-color</th>\n",
       "      <th>population</th>\n",
       "      <th>habitat</th>\n",
       "    </tr>\n",
       "  </thead>\n",
       "  <tbody>\n",
       "    <tr>\n",
       "      <th>0</th>\n",
       "      <td>p</td>\n",
       "      <td>x</td>\n",
       "      <td>s</td>\n",
       "      <td>n</td>\n",
       "      <td>t</td>\n",
       "      <td>p</td>\n",
       "      <td>f</td>\n",
       "      <td>c</td>\n",
       "      <td>n</td>\n",
       "      <td>k</td>\n",
       "      <td>...</td>\n",
       "      <td>s</td>\n",
       "      <td>w</td>\n",
       "      <td>w</td>\n",
       "      <td>p</td>\n",
       "      <td>w</td>\n",
       "      <td>o</td>\n",
       "      <td>p</td>\n",
       "      <td>k</td>\n",
       "      <td>s</td>\n",
       "      <td>u</td>\n",
       "    </tr>\n",
       "    <tr>\n",
       "      <th>1</th>\n",
       "      <td>e</td>\n",
       "      <td>x</td>\n",
       "      <td>s</td>\n",
       "      <td>y</td>\n",
       "      <td>t</td>\n",
       "      <td>a</td>\n",
       "      <td>f</td>\n",
       "      <td>c</td>\n",
       "      <td>b</td>\n",
       "      <td>k</td>\n",
       "      <td>...</td>\n",
       "      <td>s</td>\n",
       "      <td>w</td>\n",
       "      <td>w</td>\n",
       "      <td>p</td>\n",
       "      <td>w</td>\n",
       "      <td>o</td>\n",
       "      <td>p</td>\n",
       "      <td>n</td>\n",
       "      <td>n</td>\n",
       "      <td>g</td>\n",
       "    </tr>\n",
       "    <tr>\n",
       "      <th>2</th>\n",
       "      <td>e</td>\n",
       "      <td>b</td>\n",
       "      <td>s</td>\n",
       "      <td>w</td>\n",
       "      <td>t</td>\n",
       "      <td>l</td>\n",
       "      <td>f</td>\n",
       "      <td>c</td>\n",
       "      <td>b</td>\n",
       "      <td>n</td>\n",
       "      <td>...</td>\n",
       "      <td>s</td>\n",
       "      <td>w</td>\n",
       "      <td>w</td>\n",
       "      <td>p</td>\n",
       "      <td>w</td>\n",
       "      <td>o</td>\n",
       "      <td>p</td>\n",
       "      <td>n</td>\n",
       "      <td>n</td>\n",
       "      <td>m</td>\n",
       "    </tr>\n",
       "    <tr>\n",
       "      <th>3</th>\n",
       "      <td>p</td>\n",
       "      <td>x</td>\n",
       "      <td>y</td>\n",
       "      <td>w</td>\n",
       "      <td>t</td>\n",
       "      <td>p</td>\n",
       "      <td>f</td>\n",
       "      <td>c</td>\n",
       "      <td>n</td>\n",
       "      <td>n</td>\n",
       "      <td>...</td>\n",
       "      <td>s</td>\n",
       "      <td>w</td>\n",
       "      <td>w</td>\n",
       "      <td>p</td>\n",
       "      <td>w</td>\n",
       "      <td>o</td>\n",
       "      <td>p</td>\n",
       "      <td>k</td>\n",
       "      <td>s</td>\n",
       "      <td>u</td>\n",
       "    </tr>\n",
       "    <tr>\n",
       "      <th>4</th>\n",
       "      <td>e</td>\n",
       "      <td>x</td>\n",
       "      <td>s</td>\n",
       "      <td>g</td>\n",
       "      <td>f</td>\n",
       "      <td>n</td>\n",
       "      <td>f</td>\n",
       "      <td>w</td>\n",
       "      <td>b</td>\n",
       "      <td>k</td>\n",
       "      <td>...</td>\n",
       "      <td>s</td>\n",
       "      <td>w</td>\n",
       "      <td>w</td>\n",
       "      <td>p</td>\n",
       "      <td>w</td>\n",
       "      <td>o</td>\n",
       "      <td>e</td>\n",
       "      <td>n</td>\n",
       "      <td>a</td>\n",
       "      <td>g</td>\n",
       "    </tr>\n",
       "  </tbody>\n",
       "</table>\n",
       "<p>5 rows × 23 columns</p>\n",
       "</div>"
      ],
      "text/plain": [
       "  edibility cap-shape cap-surface cap-color bruises? odor gill-attachment  \\\n",
       "0         p         x           s         n        t    p               f   \n",
       "1         e         x           s         y        t    a               f   \n",
       "2         e         b           s         w        t    l               f   \n",
       "3         p         x           y         w        t    p               f   \n",
       "4         e         x           s         g        f    n               f   \n",
       "\n",
       "  gill-spacing gill-size gill-color  ... stalk-surface-below-ring  \\\n",
       "0            c         n          k  ...                        s   \n",
       "1            c         b          k  ...                        s   \n",
       "2            c         b          n  ...                        s   \n",
       "3            c         n          n  ...                        s   \n",
       "4            w         b          k  ...                        s   \n",
       "\n",
       "  stalk-color-above-ring stalk-color-below-ring veil-type veil-color  \\\n",
       "0                      w                      w         p          w   \n",
       "1                      w                      w         p          w   \n",
       "2                      w                      w         p          w   \n",
       "3                      w                      w         p          w   \n",
       "4                      w                      w         p          w   \n",
       "\n",
       "  ring-number ring-type spore-print-color population habitat  \n",
       "0           o         p                 k          s       u  \n",
       "1           o         p                 n          n       g  \n",
       "2           o         p                 n          n       m  \n",
       "3           o         p                 k          s       u  \n",
       "4           o         e                 n          a       g  \n",
       "\n",
       "[5 rows x 23 columns]"
      ]
     },
     "execution_count": 3,
     "metadata": {},
     "output_type": "execute_result"
    }
   ],
   "source": [
    "schrooms = pd.read_csv('agaricus-lepiota.data')\n",
    "schrooms.head()"
   ]
  },
  {
   "cell_type": "markdown",
   "id": "a1b9ff33-97ac-454d-967e-33927bcd1815",
   "metadata": {},
   "source": [
    "1. Using the UCI Mushroom dataset, use k-means and a suitable cluster evaluation metric to determine the optimal number of clusters in the dataset. Note that this may not necessarily be two (edible versus not-edible)."
   ]
  },
  {
   "cell_type": "code",
   "execution_count": 19,
   "id": "e007f3e1-c752-4ae8-8a7a-ca49bdfe3332",
   "metadata": {},
   "outputs": [],
   "source": [
    "dummies = pd.get_dummies(schrooms.drop('edibility', axis='columns'))"
   ]
  },
  {
   "cell_type": "code",
   "execution_count": 36,
   "id": "a7c07cda-2e9f-4d1d-b3a6-fbb60b8bbd45",
   "metadata": {},
   "outputs": [
    {
     "data": {
      "text/plain": [
       "[<matplotlib.lines.Line2D at 0x7fcfb1515a30>]"
      ]
     },
     "execution_count": 36,
     "metadata": {},
     "output_type": "execute_result"
    },
    {
     "data": {
      "image/png": "[encoded data removed]",
      "text/plain": [
       "<Figure size 432x288 with 1 Axes>"
      ]
     },
     "metadata": {
      "needs_background": "light"
     },
     "output_type": "display_data"
    },
    {
     "data": {
      "image/png": "[encoded data removed]",
      "text/plain": [
       "<Figure size 432x288 with 1 Axes>"
      ]
     },
     "metadata": {
      "needs_background": "light"
     },
     "output_type": "display_data"
    }
   ],
   "source": [
    "\n",
    "\n",
    "ssd = []\n",
    "sc = []\n",
    "k = range(2, 16)\n",
    "for n in k:\n",
    "    kmeans = KMeans(n_clusters = n)\n",
    "    kmeans.fit(dummies)\n",
    "    ssd.append(kmeans.inertia_)\n",
    "    sc.append(metrics.silhouette_score(dummies.values, kmeans.labels_, metric='euclidean'))\n",
    "    \n",
    "plt.xlabel('K')\n",
    "plt.ylabel('SSD')\n",
    "plt.plot(k, ssd)\n",
    "plt.figure(2)\n",
    "plt.xlabel('K')\n",
    "plt.ylabel('SC')\n",
    "plt.plot(k, sc)"
   ]
  },
  {
   "cell_type": "markdown",
   "id": "364a4e14-99f3-4547-b042-012c18abf6f0",
   "metadata": {},
   "source": [
    "7 clusters looks appropriate according to the graph"
   ]
  },
  {
   "cell_type": "markdown",
   "id": "6b4177c1-b648-4dbf-ba69-7ee9af330587",
   "metadata": {},
   "source": [
    "2. Plot this metric while increasing the number of clusters, e.g., 𝑘=2..30 (see here for an example)."
   ]
  },
  {
   "cell_type": "code",
   "execution_count": 37,
   "id": "3bb07cc3-d06a-42aa-83d0-b3805557a6b4",
   "metadata": {},
   "outputs": [
    {
     "data": {
      "image/png": "[encoded data removed]",
      "text/plain": [
       "<Figure size 432x288 with 1 Axes>"
      ]
     },
     "metadata": {
      "needs_background": "light"
     },
     "output_type": "display_data"
    }
   ],
   "source": [
    "pca = PCA()\n",
    "pca.fit(dummies)\n",
    "\n",
    "plt.plot(range(0,117), pca.explained_variance_ratio_.cumsum())\n",
    "plt.xlabel('Components')\n",
    "plt.ylabel('Variance')\n",
    "plt.show()"
   ]
  },
  {
   "cell_type": "code",
   "execution_count": 38,
   "id": "de7b33b6-eb5d-4b4e-9b41-3d12f745519b",
   "metadata": {},
   "outputs": [],
   "source": [
    "pca_transform = pca.fit_transform(dummies)"
   ]
  },
  {
   "cell_type": "markdown",
   "id": "ecb9fe75-e269-4c6f-ac28-c1723ef8802c",
   "metadata": {},
   "source": [
    "3. Visualise the data using the number of clusters and a suitable projection or low-dimensional embedding."
   ]
  },
  {
   "cell_type": "code",
   "execution_count": 40,
   "id": "9a6877d7-2a9e-4c99-b2a3-717c9d1fcd9d",
   "metadata": {},
   "outputs": [
    {
     "data": {
      "image/png": "[encoded data removed]",
      "text/plain": [
       "<Figure size 432x288 with 6 Axes>"
      ]
     },
     "metadata": {
      "needs_background": "light"
     },
     "output_type": "display_data"
    }
   ],
   "source": [
    "figure, axs = plt.subplots(2,3)\n",
    "plt.subplots_adjust(top = 0.8, bottom=0.01, hspace=0.6, wspace=0.4)\n",
    "for i in range(1,7):\n",
    "    k = i+1\n",
    "    x = int((i-1)/3)\n",
    "    y = ((i-1)%3)\n",
    "    kmeans = KMeans(n_clusters=k, init= 'k-means++')\n",
    "    Ypreds = kmeans.fit_predict(pca_transform)\n",
    "    axs[x, y].title.set_text(f'K = {k}')\n",
    "    axs[x, y].scatter(pca_transform[Ypreds == 0, 0], pca_transform[Ypreds == 0, 1], s = 100, c = 'red', label = 'edible')\n",
    "    axs[x, y].scatter(pca_transform[Ypreds == 1, 0], pca_transform[Ypreds == 1, 1], s = 100, c = 'blue', label = 'poisonous')\n",
    "plt.show()"
   ]
  },
  {
   "cell_type": "code",
   "execution_count": null,
   "id": "10e625b0-a7ea-42fc-9606-bb68308ff588",
   "metadata": {},
   "outputs": [],
   "source": []
  }
 ],
 "metadata": {
  "kernelspec": {
   "display_name": "Python 3",
   "language": "python",
   "name": "python3"
  },
  "language_info": {
   "codemirror_mode": {
    "name": "ipython",
    "version": 3
   },
   "file_extension": ".py",
   "mimetype": "text/x-python",
   "name": "python",
   "nbconvert_exporter": "python",
   "pygments_lexer": "ipython3",
   "version": "3.8.8"
  }
 },
 "nbformat": 4,
 "nbformat_minor": 5
}
