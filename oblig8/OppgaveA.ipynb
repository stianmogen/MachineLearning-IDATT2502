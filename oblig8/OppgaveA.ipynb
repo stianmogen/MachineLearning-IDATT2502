{
 "cells": [
  {
   "cell_type": "code",
   "execution_count": 12,
   "id": "b74e2a68-9639-4685-a2d2-d047a9b167d2",
   "metadata": {},
   "outputs": [],
   "source": [
    "import gym\n",
    "import math\n",
    "import numpy as np\n",
    "from sklearn.preprocessing import KBinsDiscretizer\n",
    "from typing import Tuple"
   ]
  },
  {
   "cell_type": "code",
   "execution_count": 13,
   "id": "5dd20eef-518d-4034-b3d7-5ecb8fbefbd5",
   "metadata": {},
   "outputs": [],
   "source": [
    "class CartPole():\n",
    "    def __init__(self, n_bins=(6, 12),\n",
    "                 n_episodes=1000,):\n",
    "        self.n_episodes = n_episodes\n",
    "        self.n_bins = n_bins\n",
    "\n",
    "        self.env = gym.make('CartPole-v1')\n",
    "        self.steps = np.zeros(self.n_episodes)\n",
    "\n",
    "        # This is the action-value function being initialized to 0's\n",
    "        self.Q_table = np.zeros(self.n_bins + (self.env.action_space.n,))\n",
    "\n",
    "        # Used for discretizer\n",
    "        self.upper_bounds = [self.env.observation_space.high[2], math.radians(50)]\n",
    "        self.lower_bounds = [self.env.observation_space.low[2], -math.radians(50)]\n",
    "        \n",
    "    def discretizer(self, _ , __ , angle, pole_velocity ) -> Tuple[int,...]:\n",
    "        #Continuous state to discrete state\n",
    "        est = KBinsDiscretizer(n_bins=self.n_bins, encode='ordinal', strategy='uniform')\n",
    "        est.fit([self.lower_bounds, self.upper_bounds ])\n",
    "        return tuple(map(int,est.transform([[angle, pole_velocity]])[0]))\n",
    "        \n",
    "    def policy(self, state : tuple ):\n",
    "        #Picking best state\n",
    "        return np.argmax(self.Q_table[state])\n",
    "        \n",
    "    def new_Q_value(self, reward : float ,  new_state : tuple , discount_factor=1 ) -> float:\n",
    "        #Choosing new Q-value\n",
    "        future_optimal_value = np.max(self.Q_table[new_state])\n",
    "        learned_value = reward + discount_factor * future_optimal_value\n",
    "        return learned_value\n",
    "        \n",
    "        # Adaptive learning of Learning Rate\n",
    "    def learning_rate(n : int , min_rate=0.01 ) -> float  :\n",
    "        #The rate of learning reduces a little for each iteration\n",
    "        return max(min_rate, min(1.0, 1.0 - math.log10((n + 1) / 25)))\n",
    "        \n",
    "    def exploration_rate(n : int, min_rate= 0.1 ) -> float :\n",
    "        #The rate of exploration reduces a little for each iteration\n",
    "        return max(min_rate, min(1, 1.0 - math.log10((n  + 1) / 25)))\n",
    "        \n",
    "    def train(self):\n",
    "        for e in range(self.n_episodes):\n",
    "            # Siscretize state into buckets\n",
    "            current_state, done = self.discretizer(*self.env.reset()), False\n",
    "            if (e % 50 == 0): print(e)\n",
    "            while done==False:\n",
    "\n",
    "                # policy action \n",
    "                action = self.policy(current_state) # exploit\n",
    "\n",
    "                if np.random.random() < max(0.1, min(1.0, 1.0 - math.log10((e + 1) / 25))) : \n",
    "                    action = self.env.action_space.sample() # explore \n",
    "\n",
    "                # increment enviroment\n",
    "                obs, reward, done, _ = self.env.step(action)\n",
    "                new_state = self.discretizer(*obs)\n",
    "\n",
    "                # Update Q-Table\n",
    "                lr = max(0.1, min(1.0, 1.0 - math.log10((e + 1) / 25)))\n",
    "                learnt_value = self.new_Q_value(reward , new_state )\n",
    "                old_value = self.Q_table[current_state][action]\n",
    "                self.Q_table[current_state][action] = (1-lr)*old_value + lr*learnt_value\n",
    "\n",
    "                current_state = new_state\n",
    "\n",
    "                # Render the cartpole environment\n",
    "                # self.env.render()\n",
    "        print(\"FINISHED\")\n",
    "                \n",
    "    def run(self):\n",
    "        # Runs an episode while displaying the cartpole enviroment\n",
    "        steps = 0\n",
    "        done = False\n",
    "        current_state = self.discretizer(*self.env.reset())\n",
    "        while done==False:\n",
    "\n",
    "            # policy action \n",
    "            action = self.policy(current_state) # exploit\n",
    "\n",
    "\n",
    "            # increment enviroment\n",
    "            obs, reward, done, _ = self.env.step(action)\n",
    "            new_state = self.discretizer(*obs)\n",
    "\n",
    "            current_state = new_state\n",
    "\n",
    "            # Render the cartpole environment\n",
    "            self.env.render()\n",
    "        return steps\n",
    "            \n",
    "                    "
   ]
  },
  {
   "cell_type": "code",
   "execution_count": null,
   "id": "21046576-6eed-4526-93aa-60c53ed3c2ee",
   "metadata": {},
   "outputs": [
    {
     "name": "stdout",
     "output_type": "stream",
     "text": [
      "0\n",
      "50\n",
      "100\n",
      "150\n"
     ]
    }
   ],
   "source": [
    "model = CartPole()\n",
    "model.train()\n",
    "    "
   ]
  },
  {
   "cell_type": "code",
   "execution_count": 11,
   "id": "f874d986-2220-4615-a791-477aaa668129",
   "metadata": {},
   "outputs": [
    {
     "data": {
      "text/plain": [
       "0"
      ]
     },
     "execution_count": 11,
     "metadata": {},
     "output_type": "execute_result"
    }
   ],
   "source": [
    "model.run()"
   ]
  },
  {
   "cell_type": "code",
   "execution_count": null,
   "id": "6003443c-a3d1-4b20-ae0a-9961dee21e6e",
   "metadata": {},
   "outputs": [],
   "source": []
  },
  {
   "cell_type": "code",
   "execution_count": null,
   "id": "6765a060-1d99-4b78-bc19-7c2946dba0a6",
   "metadata": {},
   "outputs": [],
   "source": []
  }
 ],
 "metadata": {
  "kernelspec": {
   "display_name": "Python 3",
   "language": "python",
   "name": "python3"
  },
  "language_info": {
   "codemirror_mode": {
    "name": "ipython",
    "version": 3
   },
   "file_extension": ".py",
   "mimetype": "text/x-python",
   "name": "python",
   "nbconvert_exporter": "python",
   "pygments_lexer": "ipython3",
   "version": "3.8.8"
  }
 },
 "nbformat": 4,
 "nbformat_minor": 5
}
